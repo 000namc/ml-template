{
 "cells": [
  {
   "cell_type": "code",
   "execution_count": 50,
   "metadata": {},
   "outputs": [],
   "source": [
    "import json\n",
    "import os"
   ]
  },
  {
   "cell_type": "code",
   "execution_count": 51,
   "metadata": {},
   "outputs": [],
   "source": [
    "class Config:\n",
    "    \n",
    "    def __init__(self, json_path):\n",
    "        with open(json_path, mode = 'r') as io:\n",
    "            params = json.loads(io.read())\n",
    "        self.__dict__.update(params)\n",
    "        \n",
    "    def save(self, json_path):\n",
    "        with open(json_path, mode = 'w') as io:\n",
    "            json.dump(self.__dict__, io, indent = 4)\n",
    "    \n",
    "    def update(self, json_path):\n",
    "        with open(json_path, mode = 'r') as io:\n",
    "            params = json.loads(io.read())\n",
    "        self.__dict__.update(params)\n",
    "    \n",
    "    @property\n",
    "    def dict(self):\n",
    "        return(self.__dict__)\n",
    "    "
   ]
  },
  {
   "cell_type": "code",
   "execution_count": 52,
   "metadata": {},
   "outputs": [],
   "source": [
    "json_path = '/Users/000namc/github/ml-template/data/config.json'\n",
    "# 이 json파일에 preprocessing 데이터 위치까지 모두 저장시킬것.\n",
    "# 하나는 path, 하나는 description 이면 좋을거 같은데."
   ]
  },
  {
   "cell_type": "code",
   "execution_count": 53,
   "metadata": {},
   "outputs": [],
   "source": [
    "config = Config(json_path)"
   ]
  },
  {
   "cell_type": "code",
   "execution_count": 54,
   "metadata": {},
   "outputs": [
    {
     "data": {
      "text/plain": [
       "{'path': {'train': 'data/train.csv', 'test': 'data/test.csv'},\n",
       " 'descript': {'train': '원본 train data', 'test': '원본 test data'}}"
      ]
     },
     "execution_count": 54,
     "metadata": {},
     "output_type": "execute_result"
    }
   ],
   "source": [
    "config.dict"
   ]
  },
  {
   "cell_type": "code",
   "execution_count": 61,
   "metadata": {},
   "outputs": [
    {
     "data": {
      "text/plain": [
       "['train', 'test']"
      ]
     },
     "execution_count": 61,
     "metadata": {},
     "output_type": "execute_result"
    }
   ],
   "source": [
    "list(config.dict['path'].keys())"
   ]
  },
  {
   "cell_type": "code",
   "execution_count": null,
   "metadata": {},
   "outputs": [],
   "source": []
  },
  {
   "cell_type": "code",
   "execution_count": null,
   "metadata": {},
   "outputs": [],
   "source": []
  }
 ],
 "metadata": {
  "kernelspec": {
   "display_name": "Python 3",
   "language": "python",
   "name": "python3"
  },
  "language_info": {
   "codemirror_mode": {
    "name": "ipython",
    "version": 3
   },
   "file_extension": ".py",
   "mimetype": "text/x-python",
   "name": "python",
   "nbconvert_exporter": "python",
   "pygments_lexer": "ipython3",
   "version": "3.7.3"
  },
  "toc": {
   "base_numbering": 1,
   "nav_menu": {},
   "number_sections": false,
   "sideBar": true,
   "skip_h1_title": false,
   "title_cell": "Table of Contents",
   "title_sidebar": "Contents",
   "toc_cell": false,
   "toc_position": {},
   "toc_section_display": true,
   "toc_window_display": false
  }
 },
 "nbformat": 4,
 "nbformat_minor": 2
}
