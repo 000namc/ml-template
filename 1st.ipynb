{
 "cells": [
  {
   "cell_type": "code",
   "execution_count": 31,
   "metadata": {},
   "outputs": [],
   "source": [
    "import json\n",
    "import os"
   ]
  },
  {
   "cell_type": "code",
   "execution_count": 32,
   "metadata": {},
   "outputs": [],
   "source": [
    "import sys"
   ]
  },
  {
   "cell_type": "code",
   "execution_count": 33,
   "metadata": {},
   "outputs": [
    {
     "data": {
      "text/plain": [
       "['/Users/000namc/github/ml-template/model/',\n",
       " '/Users/000namc/github/ml-template',\n",
       " '/Users/000namc/github/ml-template',\n",
       " '/Users/000namc/anaconda3/lib/python37.zip',\n",
       " '/Users/000namc/anaconda3/lib/python3.7',\n",
       " '/Users/000namc/anaconda3/lib/python3.7/lib-dynload',\n",
       " '',\n",
       " '/Users/000namc/anaconda3/lib/python3.7/site-packages',\n",
       " '/Users/000namc/anaconda3/lib/python3.7/site-packages/aeosa',\n",
       " '/Users/000namc/anaconda3/lib/python3.7/site-packages/pystacknet-0.0.1-py3.7.egg',\n",
       " '/Users/000namc/anaconda3/lib/python3.7/site-packages/IPython/extensions',\n",
       " '/Users/000namc/.ipython']"
      ]
     },
     "execution_count": 33,
     "metadata": {},
     "output_type": "execute_result"
    }
   ],
   "source": [
    "sys.path"
   ]
  },
  {
   "cell_type": "code",
   "execution_count": 34,
   "metadata": {},
   "outputs": [],
   "source": [
    "class Config:\n",
    "    \n",
    "    def __init__(self, json_path):\n",
    "        with open(json_path, mode = 'r') as io:\n",
    "            params = json.loads(io.read())\n",
    "        self.__dict__.update(params)\n",
    "        \n",
    "    def save(self, json_path):\n",
    "        with open(json_path, mode = 'w') as io:\n",
    "            json.dump(self.__dict__, io, indent = 4)\n",
    "    \n",
    "    def update(self, json_path):\n",
    "        with open(json_path, mode = 'r') as io:\n",
    "            params = json.loads(io.read())\n",
    "        self.__dict__.update(params)\n",
    "    \n",
    "    @property\n",
    "    def dict(self):\n",
    "        return(self.__dict__)\n",
    "    "
   ]
  },
  {
   "cell_type": "code",
   "execution_count": 59,
   "metadata": {},
   "outputs": [],
   "source": [
    "json_path = '/Users/000namc/github/ml-template/data/config.json'\n",
    "# 이 json파일에 preprocessing 데이터 위치까지 모두 저장시킬것.\n",
    "# 하나는 path, 하나는 description 이면 좋을거 같은데."
   ]
  },
  {
   "cell_type": "code",
   "execution_count": 60,
   "metadata": {},
   "outputs": [],
   "source": [
    "config = Config(json_path)"
   ]
  },
  {
   "cell_type": "code",
   "execution_count": 61,
   "metadata": {},
   "outputs": [
    {
     "data": {
      "text/plain": [
       "{'origin': {'path': {'train': '/Users/000namc/github/ml-template/data/origin/train.csv',\n",
       "   'test': '/Users/000namc/github/ml-template/data/origin/test.csv'},\n",
       "  'description': {'train': '원본 train data', 'test': '원본 test data'}},\n",
       " 'preprocessing': {}}"
      ]
     },
     "execution_count": 61,
     "metadata": {},
     "output_type": "execute_result"
    }
   ],
   "source": [
    "config.dict"
   ]
  },
  {
   "cell_type": "code",
   "execution_count": 62,
   "metadata": {},
   "outputs": [
    {
     "data": {
      "text/plain": [
       "['train', 'test']"
      ]
     },
     "execution_count": 62,
     "metadata": {},
     "output_type": "execute_result"
    }
   ],
   "source": [
    "list(config.dict['origin']['path'].keys())"
   ]
  },
  {
   "cell_type": "code",
   "execution_count": 4,
   "metadata": {},
   "outputs": [],
   "source": [
    "\n",
    "path = os.getcwd() \n",
    "sys.path.insert(0, path)\n",
    "sys.path.insert(0, path + '/model/')"
   ]
  },
  {
   "cell_type": "code",
   "execution_count": 40,
   "metadata": {},
   "outputs": [],
   "source": [
    "config.dict"
   ]
  },
  {
   "cell_type": "code",
   "execution_count": 42,
   "metadata": {},
   "outputs": [],
   "source": [
    "temp = {}"
   ]
  },
  {
   "cell_type": "code",
   "execution_count": 43,
   "metadata": {},
   "outputs": [],
   "source": [
    "temp['origin'] = config.dict"
   ]
  },
  {
   "cell_type": "code",
   "execution_count": 44,
   "metadata": {},
   "outputs": [],
   "source": [
    "temp['preprocessing'] = {}"
   ]
  },
  {
   "cell_type": "code",
   "execution_count": 46,
   "metadata": {},
   "outputs": [
    {
     "ename": "AttributeError",
     "evalue": "can't set attribute",
     "output_type": "error",
     "traceback": [
      "\u001b[0;31m---------------------------------------------------------------------------\u001b[0m",
      "\u001b[0;31mAttributeError\u001b[0m                            Traceback (most recent call last)",
      "\u001b[0;32m<ipython-input-46-60c75a60fb8e>\u001b[0m in \u001b[0;36m<module>\u001b[0;34m\u001b[0m\n\u001b[0;32m----> 1\u001b[0;31m \u001b[0mconfig\u001b[0m\u001b[0;34m.\u001b[0m\u001b[0mdict\u001b[0m \u001b[0;34m=\u001b[0m \u001b[0mtemp\u001b[0m\u001b[0;34m\u001b[0m\u001b[0;34m\u001b[0m\u001b[0m\n\u001b[0m",
      "\u001b[0;31mAttributeError\u001b[0m: can't set attribute"
     ]
    }
   ],
   "source": [
    "config.dict = temp"
   ]
  },
  {
   "cell_type": "code",
   "execution_count": 47,
   "metadata": {},
   "outputs": [
    {
     "data": {
      "text/plain": [
       "{'origin': {'path': {'train': '/Users/000namc/github/ml-template/data/origin/train.csv',\n",
       "   'test': '/Users/000namc/github/ml-template/data/origin/test.csv'},\n",
       "  'description': {'train': '원본 train data', 'test': '원본 test data'}},\n",
       " 'preprocessing': {}}"
      ]
     },
     "execution_count": 47,
     "metadata": {},
     "output_type": "execute_result"
    }
   ],
   "source": [
    "temp"
   ]
  },
  {
   "cell_type": "code",
   "execution_count": null,
   "metadata": {},
   "outputs": [],
   "source": []
  }
 ],
 "metadata": {
  "kernelspec": {
   "display_name": "Python 3",
   "language": "python",
   "name": "python3"
  },
  "language_info": {
   "codemirror_mode": {
    "name": "ipython",
    "version": 3
   },
   "file_extension": ".py",
   "mimetype": "text/x-python",
   "name": "python",
   "nbconvert_exporter": "python",
   "pygments_lexer": "ipython3",
   "version": "3.7.3"
  },
  "toc": {
   "base_numbering": 1,
   "nav_menu": {},
   "number_sections": false,
   "sideBar": true,
   "skip_h1_title": false,
   "title_cell": "Table of Contents",
   "title_sidebar": "Contents",
   "toc_cell": false,
   "toc_position": {},
   "toc_section_display": true,
   "toc_window_display": false
  }
 },
 "nbformat": 4,
 "nbformat_minor": 2
}
